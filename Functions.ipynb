{
 "cells": [
  {
   "cell_type": "code",
   "execution_count": 92,
   "metadata": {},
   "outputs": [],
   "source": [
    "import numpy as np\n",
    "\n",
    "a = np.zeros((3,3),dtype = int)\n",
    "\n",
    "def draw(a):\n",
    "    for i in range(3):\n",
    "        for j in range(3):\n",
    "            if a[i,j] == 1:\n",
    "                v = \"X\"\n",
    "            if a[i,j] == 2:\n",
    "                v = \"O\"\n",
    "            if a[i,j] == 0:\n",
    "                v = \" \"\n",
    "            if j != 2:\n",
    "                print(v,end = ' | ')\n",
    "            else:\n",
    "                print(v)\n",
    "        if i != 2:\n",
    "            print(\"---------\")\n",
    "    \n",
    "\n",
    "def insert(player,a,v):\n",
    "    \n",
    "    x , y = input(\"Inserte Coordenadas de \"+str(player.id)+\": Ej \\\"0 1\\\" \").split()\n",
    "    x = int(x)\n",
    "    y = int(y)\n",
    "    \n",
    "    a[y,x] = v\n",
    "    \n",
    "    player.x.append(x)\n",
    "    player.y.append(y)\n",
    "    \n",
    "def check(player,a):\n",
    "    c = 0\n",
    "    for i in range(3):\n",
    "        if player.x.count(i) == 3:\n",
    "            print(\"Winner is \"+str(player.id))\n",
    "            return 0\n",
    "        if player.y.count(i) == 3:\n",
    "            print(\"Winner is \"+str(player.id))\n",
    "            return 0\n",
    "    for i in range(len(player.x)):\n",
    "        if ((player.x[i]+player.y[i])%2)==0:\n",
    "            c +=1\n",
    "        \n",
    "    if c ==3:\n",
    "        print(\"Winner is \"+str(player.id))\n",
    "        return 0\n",
    "    "
   ]
  },
  {
   "cell_type": "code",
   "execution_count": 93,
   "metadata": {},
   "outputs": [],
   "source": [
    "class player:\n",
    "    def __init__(self,id):\n",
    "        self.x = []\n",
    "        self.y = []\n",
    "        self.id = id"
   ]
  },
  {
   "cell_type": "code",
   "execution_count": 94,
   "metadata": {},
   "outputs": [
    {
     "name": "stdout",
     "output_type": "stream",
     "text": [
      "Inserte Coordenadas de O: Ej \"0 1\" 0 1\n",
      "  |   |  \n",
      "---------\n",
      "O |   |  \n",
      "---------\n",
      "  |   |  \n",
      "Inserte Coordenadas de X: Ej \"0 1\" 1 1\n",
      "  |   |  \n",
      "---------\n",
      "O | X |  \n",
      "---------\n",
      "  |   |  \n",
      "Inserte Coordenadas de O: Ej \"0 1\" 0 2\n",
      "  |   |  \n",
      "---------\n",
      "O | X |  \n",
      "---------\n",
      "O |   |  \n",
      "Inserte Coordenadas de X: Ej \"0 1\"  0 1\n",
      "  |   |  \n",
      "---------\n",
      "X | X |  \n",
      "---------\n",
      "O |   |  \n",
      "Inserte Coordenadas de O: Ej \"0 1\" 1 2\n",
      "  |   |  \n",
      "---------\n",
      "X | X |  \n",
      "---------\n",
      "O | O |  \n",
      "Inserte Coordenadas de X: Ej \"0 1\" 2 1\n",
      "  |   |  \n",
      "---------\n",
      "X | X | X\n",
      "---------\n",
      "O | O |  \n",
      "Winner is X\n"
     ]
    }
   ],
   "source": [
    "player1 = player(\"X\")\n",
    "player2 = player(\"O\")\n",
    "win = False\n",
    "c = 0\n",
    "while win== False:\n",
    "    if c %2:\n",
    "        insert(player1,a,1)\n",
    "    else:\n",
    "        insert(player2,a,2)\n",
    "    c +=1\n",
    "    draw(a)\n",
    "    if check(player1,a) == 0 or check(player2,a) == 0:\n",
    "        break\n"
   ]
  }
 ],
 "metadata": {
  "kernelspec": {
   "display_name": "Python 3",
   "language": "python",
   "name": "python3"
  },
  "varInspector": {
   "cols": {
    "lenName": 16,
    "lenType": 16,
    "lenVar": 40
   },
   "kernels_config": {
    "python": {
     "delete_cmd_postfix": "",
     "delete_cmd_prefix": "del ",
     "library": "var_list.py",
     "varRefreshCmd": "print(var_dic_list())"
    },
    "r": {
     "delete_cmd_postfix": ") ",
     "delete_cmd_prefix": "rm(",
     "library": "var_list.r",
     "varRefreshCmd": "cat(var_dic_list()) "
    }
   },
   "types_to_exclude": [
    "module",
    "function",
    "builtin_function_or_method",
    "instance",
    "_Feature"
   ],
   "window_display": false
  }
 },
 "nbformat": 4,
 "nbformat_minor": 2
}
